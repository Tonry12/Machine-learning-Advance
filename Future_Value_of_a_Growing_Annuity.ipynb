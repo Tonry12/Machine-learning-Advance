{
  "nbformat": 4,
  "nbformat_minor": 0,
  "metadata": {
    "colab": {
      "provenance": [],
      "authorship_tag": "ABX9TyMQXFPQCGewi54akxScY9dT",
      "include_colab_link": true
    },
    "kernelspec": {
      "name": "python3",
      "display_name": "Python 3"
    },
    "language_info": {
      "name": "python"
    }
  },
  "cells": [
    {
      "cell_type": "markdown",
      "metadata": {
        "id": "view-in-github",
        "colab_type": "text"
      },
      "source": [
        "<a href=\"https://colab.research.google.com/github/Tonry12/Machine-learning-Advance/blob/main/Future_Value_of_a_Growing_Annuity.ipynb\" target=\"_parent\"><img src=\"https://colab.research.google.com/assets/colab-badge.svg\" alt=\"Open In Colab\"/></a>"
      ]
    },
    {
      "cell_type": "markdown",
      "source": [
        "วางแผนเกษียณในแต่ละช่วงเงินเดือนต่างๆ\n",
        "โดยมีอัตราผลตอบแทน 7% / ปี\n",
        "โดยจะเกษียณอายุ 60\n",
        "และจะใช้เงินเดือนละ 30,000 ไปจนถึงอายุ 80"
      ],
      "metadata": {
        "id": "3kMgrQaQ3kmC"
      }
    },
    {
      "cell_type": "code",
      "execution_count": null,
      "metadata": {
        "id": "OUAx0L0v3XNS"
      },
      "outputs": [],
      "source": [
        "import numpy as np\n",
        "import pandas as pd\n",
        "\n",
        "# ฟังก์ชันคำนวณ Future Value of a Growing Annuity\n",
        "def calculate_fv(P, r, g, n):\n",
        "    # FV = P * ((1 + r)^n - (1 + g)^n) / (r - g)\n",
        "    return P * (((1 + r) ** n - (1 + g) ** n) / (r - g))\n",
        "\n",
        "# ฟังก์ชันคำนวณ g จากค่า FV\n",
        "def calculate_g(FV, P, r, n):\n",
        "    from scipy.optimize import fsolve\n",
        "    # ฟังก์ชันที่ใช้หาค่า g ที่เหมาะสม\n",
        "    def equation(g):\n",
        "        return calculate_fv(P, r, g, n) - FV\n",
        "\n",
        "    # ใช้ fsolve ในการหาค่า g\n",
        "    g_solution = fsolve(equation, 0.05)  # เริ่มต้นประมาณที่ g = 5%\n",
        "    return g_solution[0]\n",
        "\n",
        "# ค่าคงที่\n",
        "r = 0.07  # ผลตอบแทน 7% ต่อปี\n",
        "n = 38    # จำนวนปี (38 ปี)\n",
        "FV = 39000000  # เป้าหมายมูลค่าอนาคต\n",
        "\n",
        "# รายได้ต่างๆ ตามที่ให้มา\n",
        "salaries = [15000, 18000, 22000, 25000, 30000, 35000, 40000, 45000, 50000]\n",
        "\n",
        "# สร้าง DataFrame เพื่อแสดงผลลัพธ์\n",
        "result = []\n",
        "\n",
        "for salary in salaries:\n",
        "    P = (salary * 0.20) * 12  # คำนวณออมรายปี 20% ของเงินเดือน แล้วคูณด้วย 12\n",
        "    g = calculate_g(FV, P, r, n)  # คำนวณค่า g\n",
        "    result.append({'Salary': salary, 'Annual Savings (P)': P, 'Growth Rate (g)': g})\n",
        "\n",
        "# แสดงผลลัพธ์เป็นตาราง\n",
        "df = pd.DataFrame(result)\n",
        "df\n"
      ]
    }
  ]
}